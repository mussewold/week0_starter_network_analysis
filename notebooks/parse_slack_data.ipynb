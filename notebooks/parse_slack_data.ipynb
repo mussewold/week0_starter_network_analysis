{
 "cells": [
  {
   "cell_type": "code",
   "execution_count": 250,
   "metadata": {},
   "outputs": [],
   "source": [
    "%reload_ext autoreload\n",
    "%autoreload 2"
   ]
  },
  {
   "cell_type": "code",
   "execution_count": 251,
   "metadata": {},
   "outputs": [],
   "source": [
    "import os, sys\n",
    "import re\n",
    "import json\n",
    "import glob\n",
    "import datetime\n",
    "from collections import Counter\n",
    "\n",
    "import pandas as pd\n",
    "from matplotlib import pyplot as plt\n",
    "import seaborn as sns\n",
    "\n",
    "from nltk.corpus import stopwords\n",
    "# from wordcloud import WordCloud"
   ]
  },
  {
   "cell_type": "code",
   "execution_count": 252,
   "metadata": {},
   "outputs": [],
   "source": [
    "# Add parent directory to path to import modules from src\n",
    "rpath = os.path.abspath('..')\n",
    "if rpath not in sys.path:\n",
    "    sys.path.insert(0, rpath)\n",
    "\n",
    "from src.loader import SlackDataLoader\n",
    "import src.utils as utils"
   ]
  },
  {
   "cell_type": "markdown",
   "metadata": {},
   "source": [
    "### Columns we can get from a slack message<br>\n",
    "\n",
    "message_type, message_content, sender_id, time_sent, message_distribution, time_thread_start, reply_count, reply_user_count, time_thread_end, reply_users"
   ]
  },
  {
   "cell_type": "markdown",
   "metadata": {},
   "source": [
    "From a single slack message, we can get <br>\n",
    "\n",
    "1. The message<br>\n",
    "2. Type (message, file, link, etc)<br>\n",
    "3. The sender_id (assigned by slack)<br>\n",
    "4. The time the message was sent<br>\n",
    "5. The team (i don't know what that is now)<br>\n",
    "6. The type of the message (broadcast message, inhouse, just messgae)<br>\n",
    "7. The thread the message generated (from here we can go):<br>\n",
    "    7.1 Text/content of the message<br>\n",
    "    7.2 The thread time of the message<br>\n",
    "    7.3 The thread count (reply count)<br>\n",
    "    7.4 The number of user that reply the message (count of users that participated in the thread)<br>\n",
    "    7.5 The time the last thread message was sent <br>\n",
    "    7.6 The users that participated in the thread (their ids are stored as well)<br>"
   ]
  },
  {
   "cell_type": "code",
   "execution_count": 253,
   "metadata": {},
   "outputs": [],
   "source": [
    "# combine all json file in all-weeks8-9\n",
    "from src.utils  import slack_parser\n",
    "from src.utils import parse_slack_reaction\n",
    "from src.utils import get_community_participation"
   ]
  },
  {
   "cell_type": "code",
   "execution_count": 254,
   "metadata": {},
   "outputs": [],
   "source": [
    "# from get_tagged_users import \"/src/utils.py\"\n",
    "# from convert_2_timestamp import \"/src/utils.py\"\n",
    "\n",
    "def get_tagged_users(df):\n",
    "    \"\"\"get all @ in the messages\"\"\"\n",
    "\n",
    "    return df['msg_content'].map(lambda x: re.findall(r'@U\\w+', x))\n",
    "\n",
    "\n",
    "    \n",
    "def map_userid_2_realname(user_profile: dict, comm_dict: dict, plot=False):\n",
    "    \"\"\"\n",
    "    map slack_id to realnames\n",
    "    user_profile: a dictionary that contains users info such as real_names\n",
    "    comm_dict: a dictionary that contains slack_id and total_message sent by that slack_id\n",
    "    \"\"\"\n",
    "    user_dict = {} # to store the id\n",
    "    real_name = [] # to store the real name\n",
    "    ac_comm_dict = {} # to store the mapping\n",
    "    count = 0\n",
    "    # collect all the real names\n",
    "    for i in range(len(user_profile['profile'])):\n",
    "        real_name.append(dict(user_profile['profile'])[i]['real_name'])\n",
    "\n",
    "    # loop the slack ids\n",
    "    for i in user_profile['id']:\n",
    "        user_dict[i] = real_name[count]\n",
    "        count += 1\n",
    "\n",
    "    # to store mapping\n",
    "    for i in comm_dict:\n",
    "        if i in user_dict:\n",
    "            ac_comm_dict[user_dict[i]] = comm_dict[i]\n",
    "\n",
    "    ac_comm_dict = pd.DataFrame(data= zip(ac_comm_dict.keys(), ac_comm_dict.values()),\n",
    "    columns=['LearnerName', '# of Msg sent in Threads']).sort_values(by='# of Msg sent in Threads', ascending=False)\n",
    "    \n",
    "    if plot:\n",
    "        ac_comm_dict.plot.bar(figsize=(15, 7.5), x='LearnerName', y='# of Msg sent in Threads')\n",
    "        plt.title('Student based on Message sent in thread', size=20)\n",
    "        \n",
    "    return ac_comm_dict"
   ]
  },
  {
   "cell_type": "code",
   "execution_count": 255,
   "metadata": {},
   "outputs": [],
   "source": [
    "def get_top_20_user(data, channel='Random'):\n",
    "    \"\"\"get user with the highest number of message sent to any channel\"\"\"\n",
    "\n",
    "    data['sender_name'].value_counts()[:20].plot.bar(figsize=(15, 7.5))\n",
    "    plt.title(f'Top 20 Message Senders in #{channel} channels', size=15, fontweight='bold')\n",
    "    plt.xlabel(\"Sender Name\", size=18); plt.ylabel(\"Frequency\", size=14);\n",
    "    plt.xticks(size=12); plt.yticks(size=12);\n",
    "    plt.show()\n",
    "\n",
    "    data['sender_name'].value_counts()[-10:].plot.bar(figsize=(15, 7.5))\n",
    "    plt.title(f'Bottom 10 Message Senders in #{channel} channels', size=15, fontweight='bold')\n",
    "    plt.xlabel(\"Sender Name\", size=18); plt.ylabel(\"Frequency\", size=14);\n",
    "    plt.xticks(size=12); plt.yticks(size=12);\n",
    "    plt.show()\n",
    "\n",
    "def draw_avg_reply_count(data, channel='Random'):\n",
    "    \"\"\"who commands many reply?\"\"\"\n",
    "\n",
    "    data.groupby('sender_name')['reply_count'].mean().sort_values(ascending=False)[:20]\\\n",
    "        .plot(kind='bar', figsize=(15,7.5));\n",
    "    plt.title(f'Average Number of reply count per Sender in #{channel}', size=20, fontweight='bold')\n",
    "    plt.xlabel(\"Sender Name\", size=18); plt.ylabel(\"Frequency\", size=18);\n",
    "    plt.xticks(size=14); plt.yticks(size=14);\n",
    "    plt.show()\n",
    "\n",
    "def draw_avg_reply_users_count(data, channel='Random'):\n",
    "    \"\"\"who commands many user reply?\"\"\"\n",
    "\n",
    "    data.groupby('sender_name')['reply_users_count'].mean().sort_values(ascending=False)[:20].plot(kind='bar',\n",
    "     figsize=(15,7.5));\n",
    "    plt.title(f'Average Number of reply user count per Sender in #{channel}', size=20, fontweight='bold')\n",
    "    plt.xlabel(\"Sender Name\", size=18); plt.ylabel(\"Frequency\", size=18);\n",
    "    plt.xticks(size=14); plt.yticks(size=14);\n",
    "    plt.show()\n",
    "\n",
    "def draw_wordcloud(msg_content, week):    \n",
    "    # word cloud visualization\n",
    "    allWords = ' '.join([twts for twts in msg_content])\n",
    "    wordCloud = WordCloud(background_color='#975429', width=500, height=300, random_state=21, max_words=500, mode='RGBA',\n",
    "                            max_font_size=140, stopwords=stopwords.words('english')).generate(allWords)\n",
    "    plt.figure(figsize=(15, 7.5))\n",
    "    plt.imshow(wordCloud, interpolation=\"bilinear\")\n",
    "    plt.axis('off')\n",
    "    plt.tight_layout()\n",
    "    plt.title(f'WordCloud for {week}', size=30)\n",
    "    plt.show()\n",
    "\n",
    "def draw_user_reaction(data, channel='General'):\n",
    "    data.groupby('sender_name')[['reply_count', 'reply_users_count']].sum()\\\n",
    "        .sort_values(by='reply_count',ascending=False)[:10].plot(kind='bar', figsize=(15, 7.5))\n",
    "    plt.title(f'User with the most reaction in #{channel}', size=25);\n",
    "    plt.xlabel(\"Sender Name\", size=18); plt.ylabel(\"Frequency\", size=18);\n",
    "    plt.xticks(size=14); plt.yticks(size=14);\n",
    "    plt.show()"
   ]
  },
  {
   "cell_type": "markdown",
   "metadata": {},
   "source": [
    "**************************"
   ]
  },
  {
   "cell_type": "code",
   "execution_count": 256,
   "metadata": {},
   "outputs": [],
   "source": [
    "from src.loader import SlackDataLoader\n",
    "\n",
    "data_path = '../anonymized/'\n",
    "\n",
    "loader = SlackDataLoader(data_path)\n",
    "\n",
    "channels = loader.get_channels()\n",
    "users = loader.get_users()\n",
    "\n"
   ]
  },
  {
   "cell_type": "code",
   "execution_count": 257,
   "metadata": {},
   "outputs": [
    {
     "data": {
      "text/html": [
       "<div>\n",
       "<style scoped>\n",
       "    .dataframe tbody tr th:only-of-type {\n",
       "        vertical-align: middle;\n",
       "    }\n",
       "\n",
       "    .dataframe tbody tr th {\n",
       "        vertical-align: top;\n",
       "    }\n",
       "\n",
       "    .dataframe thead th {\n",
       "        text-align: right;\n",
       "    }\n",
       "</style>\n",
       "<table border=\"1\" class=\"dataframe\">\n",
       "  <thead>\n",
       "    <tr style=\"text-align: right;\">\n",
       "      <th></th>\n",
       "      <th>id</th>\n",
       "      <th>name</th>\n",
       "      <th>created</th>\n",
       "      <th>creator</th>\n",
       "      <th>is_archived</th>\n",
       "      <th>is_general</th>\n",
       "      <th>members</th>\n",
       "      <th>topic</th>\n",
       "      <th>purpose</th>\n",
       "      <th>pins</th>\n",
       "    </tr>\n",
       "  </thead>\n",
       "  <tbody>\n",
       "    <tr>\n",
       "      <th>0</th>\n",
       "      <td>C03T0APHX63</td>\n",
       "      <td>all-community-building</td>\n",
       "      <td>1660301317</td>\n",
       "      <td>U03TEPYRM2P</td>\n",
       "      <td>False</td>\n",
       "      <td>False</td>\n",
       "      <td>[U03T89ACUUW, U03TEPYRM2P, U03TNP8Q8CT, U03TT5...</td>\n",
       "      <td>{'value': '', 'creator': '', 'last_set': 0}</td>\n",
       "      <td>{'value': '', 'creator': '', 'last_set': 0}</td>\n",
       "      <td>NaN</td>\n",
       "    </tr>\n",
       "    <tr>\n",
       "      <th>1</th>\n",
       "      <td>C03T0AX4K6K</td>\n",
       "      <td>all-technical-support</td>\n",
       "      <td>1660301462</td>\n",
       "      <td>U03TEPYRM2P</td>\n",
       "      <td>False</td>\n",
       "      <td>False</td>\n",
       "      <td>[U03T89ACUUW, U03TEPYRM2P, U03TNP8Q8CT, U03TT5...</td>\n",
       "      <td>{'value': '', 'creator': '', 'last_set': 0}</td>\n",
       "      <td>{'value': '', 'creator': '', 'last_set': 0}</td>\n",
       "      <td>NaN</td>\n",
       "    </tr>\n",
       "    <tr>\n",
       "      <th>2</th>\n",
       "      <td>C03T89KDGA2</td>\n",
       "      <td>all-career-exercises</td>\n",
       "      <td>1660301361</td>\n",
       "      <td>U03TEPYRM2P</td>\n",
       "      <td>False</td>\n",
       "      <td>False</td>\n",
       "      <td>[U03T89ACUUW, U03TEPYRM2P, U03TNP8Q8CT, U03TT5...</td>\n",
       "      <td>{'value': '', 'creator': '', 'last_set': 0}</td>\n",
       "      <td>{'value': '', 'creator': '', 'last_set': 0}</td>\n",
       "      <td>[{'id': '1663839365.770289', 'type': 'C', 'cre...</td>\n",
       "    </tr>\n",
       "  </tbody>\n",
       "</table>\n",
       "</div>"
      ],
      "text/plain": [
       "            id                    name     created      creator  is_archived  \\\n",
       "0  C03T0APHX63  all-community-building  1660301317  U03TEPYRM2P        False   \n",
       "1  C03T0AX4K6K   all-technical-support  1660301462  U03TEPYRM2P        False   \n",
       "2  C03T89KDGA2    all-career-exercises  1660301361  U03TEPYRM2P        False   \n",
       "\n",
       "   is_general                                            members  \\\n",
       "0       False  [U03T89ACUUW, U03TEPYRM2P, U03TNP8Q8CT, U03TT5...   \n",
       "1       False  [U03T89ACUUW, U03TEPYRM2P, U03TNP8Q8CT, U03TT5...   \n",
       "2       False  [U03T89ACUUW, U03TEPYRM2P, U03TNP8Q8CT, U03TT5...   \n",
       "\n",
       "                                         topic  \\\n",
       "0  {'value': '', 'creator': '', 'last_set': 0}   \n",
       "1  {'value': '', 'creator': '', 'last_set': 0}   \n",
       "2  {'value': '', 'creator': '', 'last_set': 0}   \n",
       "\n",
       "                                       purpose  \\\n",
       "0  {'value': '', 'creator': '', 'last_set': 0}   \n",
       "1  {'value': '', 'creator': '', 'last_set': 0}   \n",
       "2  {'value': '', 'creator': '', 'last_set': 0}   \n",
       "\n",
       "                                                pins  \n",
       "0                                                NaN  \n",
       "1                                                NaN  \n",
       "2  [{'id': '1663839365.770289', 'type': 'C', 'cre...  "
      ]
     },
     "execution_count": 257,
     "metadata": {},
     "output_type": "execute_result"
    }
   ],
   "source": [
    "channels_df = pd.DataFrame(channels)\n",
    "channels_df.head(3)"
   ]
  },
  {
   "cell_type": "code",
   "execution_count": 258,
   "metadata": {},
   "outputs": [
    {
     "data": {
      "text/plain": [
       "Index(['id', 'name', 'created', 'creator', 'is_archived', 'is_general',\n",
       "       'members', 'topic', 'purpose', 'pins'],\n",
       "      dtype='object')"
      ]
     },
     "execution_count": 258,
     "metadata": {},
     "output_type": "execute_result"
    }
   ],
   "source": [
    "channels_df.columns"
   ]
  },
  {
   "cell_type": "code",
   "execution_count": 259,
   "metadata": {},
   "outputs": [
    {
     "name": "stdout",
     "output_type": "stream",
     "text": [
      "{'U03U1GHT39V': 3, 'U03UJGRN5E0': 21, 'U03UFV7TUTV': 3, 'U03U93GNNVB': 5, 'U03U1FNPEUX': 25, 'U03UG5VFN03': 2, 'U03UG0YHAUT': 1, 'U03UH397319': 35, 'U03T89ACUUW': 4, 'U03UD68RQH3': 5, 'U03UUR571A5': 13, 'U03V785NLSU': 2, 'U03UDBUL7CL': 1, 'U03UJGP0C68': 13, 'U03UVHCV6KB': 42, 'U03UYNR4TS4': 1, 'U03TEPYRM2P': 11, 'U03U9FWPNCE': 9, 'U03UUS0MZCZ': 1, 'U03UP7V9Q57': 1, 'U03U9EJR362': 10, 'U03UJN29Y4C': 28, 'U03V8LHPDME': 6, 'U03UG32J3PC': 14, 'U03UUMM7Y8H': 26, 'U03UG1Z21JP': 8, 'U03V6HMRPGQ': 47, 'U03UKL27B0R': 22, 'U03UKGSDGSG': 1, 'U03V1AM5TFA': 2, 'U03UG4Q7V42': 18, 'U03U1FQKEMV': 7, 'U03UG569P7U': 1, 'U03UHB8CXDY': 4, 'U03UJKJGRAQ': 5, 'U03UAKATQ22': 3, 'U03UR2LQ4DR': 1, 'U03U1J51VFZ': 2, 'U03UUP56MDF': 3, 'U03U9DB7REG': 5, 'U03UD63A8PP': 1, 'U03UFV7HFNF': 7, 'U03TT5KEYCF': 1, 'U03V61VGQG0': 2, 'U03UL5LSTG9': 3, 'U03UGB3T3MY': 1}\n"
     ]
    }
   ],
   "source": [
    "pth = '../anonymized/all-week1/'\n",
    "msg = utils.get_community_participation(path=pth)\n",
    "# msg_df = \n",
    "print(msg)"
   ]
  },
  {
   "cell_type": "code",
   "execution_count": 260,
   "metadata": {},
   "outputs": [
    {
     "data": {
      "text/html": [
       "<div>\n",
       "<style scoped>\n",
       "    .dataframe tbody tr th:only-of-type {\n",
       "        vertical-align: middle;\n",
       "    }\n",
       "\n",
       "    .dataframe tbody tr th {\n",
       "        vertical-align: top;\n",
       "    }\n",
       "\n",
       "    .dataframe thead th {\n",
       "        text-align: right;\n",
       "    }\n",
       "</style>\n",
       "<table border=\"1\" class=\"dataframe\">\n",
       "  <thead>\n",
       "    <tr style=\"text-align: right;\">\n",
       "      <th></th>\n",
       "      <th>type</th>\n",
       "      <th>subtype</th>\n",
       "      <th>ts</th>\n",
       "      <th>user</th>\n",
       "      <th>text</th>\n",
       "      <th>blocks</th>\n",
       "      <th>attachments</th>\n",
       "      <th>client_msg_id</th>\n",
       "      <th>team</th>\n",
       "      <th>user_team</th>\n",
       "      <th>...</th>\n",
       "      <th>is_locked</th>\n",
       "      <th>subscribed</th>\n",
       "      <th>parent_user_id</th>\n",
       "      <th>last_read</th>\n",
       "      <th>files</th>\n",
       "      <th>upload</th>\n",
       "      <th>display_as_bot</th>\n",
       "      <th>edited</th>\n",
       "      <th>reactions</th>\n",
       "      <th>hidden</th>\n",
       "    </tr>\n",
       "  </thead>\n",
       "  <tbody>\n",
       "    <tr>\n",
       "      <th>0</th>\n",
       "      <td>message</td>\n",
       "      <td>channel_join</td>\n",
       "      <td>1660301462.271759</td>\n",
       "      <td>U03TEPYRM2P</td>\n",
       "      <td>&lt;@u03tepyrm2p&gt; has joined the channel</td>\n",
       "      <td>None</td>\n",
       "      <td>None</td>\n",
       "      <td>NaN</td>\n",
       "      <td>NaN</td>\n",
       "      <td>NaN</td>\n",
       "      <td>...</td>\n",
       "      <td>NaN</td>\n",
       "      <td>NaN</td>\n",
       "      <td>NaN</td>\n",
       "      <td>NaN</td>\n",
       "      <td>NaN</td>\n",
       "      <td>NaN</td>\n",
       "      <td>NaN</td>\n",
       "      <td>NaN</td>\n",
       "      <td>NaN</td>\n",
       "      <td>NaN</td>\n",
       "    </tr>\n",
       "    <tr>\n",
       "      <th>1</th>\n",
       "      <td>message</td>\n",
       "      <td>channel_join</td>\n",
       "      <td>1660301593.261919</td>\n",
       "      <td>U03T89ACUUW</td>\n",
       "      <td>&lt;@u03t89acuuw&gt; has joined the channel</td>\n",
       "      <td>None</td>\n",
       "      <td>None</td>\n",
       "      <td>NaN</td>\n",
       "      <td>NaN</td>\n",
       "      <td>NaN</td>\n",
       "      <td>...</td>\n",
       "      <td>NaN</td>\n",
       "      <td>NaN</td>\n",
       "      <td>NaN</td>\n",
       "      <td>NaN</td>\n",
       "      <td>NaN</td>\n",
       "      <td>NaN</td>\n",
       "      <td>NaN</td>\n",
       "      <td>NaN</td>\n",
       "      <td>NaN</td>\n",
       "      <td>NaN</td>\n",
       "    </tr>\n",
       "    <tr>\n",
       "      <th>2</th>\n",
       "      <td>message</td>\n",
       "      <td>channel_join</td>\n",
       "      <td>1660833152.721689</td>\n",
       "      <td>U03U9DB7REG</td>\n",
       "      <td>&lt;@u03u9db7reg&gt; has joined the channel</td>\n",
       "      <td>None</td>\n",
       "      <td>None</td>\n",
       "      <td>NaN</td>\n",
       "      <td>NaN</td>\n",
       "      <td>NaN</td>\n",
       "      <td>...</td>\n",
       "      <td>NaN</td>\n",
       "      <td>NaN</td>\n",
       "      <td>NaN</td>\n",
       "      <td>NaN</td>\n",
       "      <td>NaN</td>\n",
       "      <td>NaN</td>\n",
       "      <td>NaN</td>\n",
       "      <td>NaN</td>\n",
       "      <td>NaN</td>\n",
       "      <td>NaN</td>\n",
       "    </tr>\n",
       "  </tbody>\n",
       "</table>\n",
       "<p>3 rows × 28 columns</p>\n",
       "</div>"
      ],
      "text/plain": [
       "      type       subtype                 ts         user  \\\n",
       "0  message  channel_join  1660301462.271759  U03TEPYRM2P   \n",
       "1  message  channel_join  1660301593.261919  U03T89ACUUW   \n",
       "2  message  channel_join  1660833152.721689  U03U9DB7REG   \n",
       "\n",
       "                                    text blocks attachments client_msg_id  \\\n",
       "0  <@u03tepyrm2p> has joined the channel   None        None           NaN   \n",
       "1  <@u03t89acuuw> has joined the channel   None        None           NaN   \n",
       "2  <@u03u9db7reg> has joined the channel   None        None           NaN   \n",
       "\n",
       "  team user_team  ... is_locked subscribed parent_user_id  last_read  files  \\\n",
       "0  NaN       NaN  ...       NaN        NaN            NaN        NaN    NaN   \n",
       "1  NaN       NaN  ...       NaN        NaN            NaN        NaN    NaN   \n",
       "2  NaN       NaN  ...       NaN        NaN            NaN        NaN    NaN   \n",
       "\n",
       "  upload display_as_bot edited reactions hidden  \n",
       "0    NaN            NaN    NaN       NaN    NaN  \n",
       "1    NaN            NaN    NaN       NaN    NaN  \n",
       "2    NaN            NaN    NaN       NaN    NaN  \n",
       "\n",
       "[3 rows x 28 columns]"
      ]
     },
     "execution_count": 260,
     "metadata": {},
     "output_type": "execute_result"
    }
   ],
   "source": [
    "msg1 = loader.get_channel_messages(\"all-technical-support\")\n",
    "type(msg1)\n",
    "msg1_df = pd.DataFrame(msg1)\n",
    "msg1_df.head(3)"
   ]
  },
  {
   "cell_type": "code",
   "execution_count": 261,
   "metadata": {},
   "outputs": [
    {
     "data": {
      "text/html": [
       "<div>\n",
       "<style scoped>\n",
       "    .dataframe tbody tr th:only-of-type {\n",
       "        vertical-align: middle;\n",
       "    }\n",
       "\n",
       "    .dataframe tbody tr th {\n",
       "        vertical-align: top;\n",
       "    }\n",
       "\n",
       "    .dataframe thead th {\n",
       "        text-align: right;\n",
       "    }\n",
       "</style>\n",
       "<table border=\"1\" class=\"dataframe\">\n",
       "  <thead>\n",
       "    <tr style=\"text-align: right;\">\n",
       "      <th></th>\n",
       "      <th>type</th>\n",
       "      <th>subtype</th>\n",
       "      <th>ts</th>\n",
       "      <th>user</th>\n",
       "      <th>text</th>\n",
       "      <th>blocks</th>\n",
       "      <th>attachments</th>\n",
       "      <th>client_msg_id</th>\n",
       "      <th>team</th>\n",
       "      <th>user_team</th>\n",
       "      <th>...</th>\n",
       "      <th>hidden</th>\n",
       "      <th>bot_id</th>\n",
       "      <th>app_id</th>\n",
       "      <th>bot_profile</th>\n",
       "      <th>channel</th>\n",
       "      <th>room</th>\n",
       "      <th>no_notifications</th>\n",
       "      <th>permalink</th>\n",
       "      <th>bot_link</th>\n",
       "      <th>inviter</th>\n",
       "    </tr>\n",
       "  </thead>\n",
       "  <tbody>\n",
       "    <tr>\n",
       "      <th>0</th>\n",
       "      <td>message</td>\n",
       "      <td>channel_join</td>\n",
       "      <td>1660301317.785879</td>\n",
       "      <td>U03TEPYRM2P</td>\n",
       "      <td>&lt;@u03tepyrm2p&gt; has joined the channel</td>\n",
       "      <td>None</td>\n",
       "      <td>None</td>\n",
       "      <td>NaN</td>\n",
       "      <td>NaN</td>\n",
       "      <td>NaN</td>\n",
       "      <td>...</td>\n",
       "      <td>NaN</td>\n",
       "      <td>NaN</td>\n",
       "      <td>NaN</td>\n",
       "      <td>NaN</td>\n",
       "      <td>NaN</td>\n",
       "      <td>NaN</td>\n",
       "      <td>NaN</td>\n",
       "      <td>NaN</td>\n",
       "      <td>NaN</td>\n",
       "      <td>NaN</td>\n",
       "    </tr>\n",
       "    <tr>\n",
       "      <th>1</th>\n",
       "      <td>message</td>\n",
       "      <td>channel_join</td>\n",
       "      <td>1660301593.241889</td>\n",
       "      <td>U03T89ACUUW</td>\n",
       "      <td>&lt;@u03t89acuuw&gt; has joined the channel</td>\n",
       "      <td>None</td>\n",
       "      <td>None</td>\n",
       "      <td>NaN</td>\n",
       "      <td>NaN</td>\n",
       "      <td>NaN</td>\n",
       "      <td>...</td>\n",
       "      <td>NaN</td>\n",
       "      <td>NaN</td>\n",
       "      <td>NaN</td>\n",
       "      <td>NaN</td>\n",
       "      <td>NaN</td>\n",
       "      <td>NaN</td>\n",
       "      <td>NaN</td>\n",
       "      <td>NaN</td>\n",
       "      <td>NaN</td>\n",
       "      <td>NaN</td>\n",
       "    </tr>\n",
       "    <tr>\n",
       "      <th>2</th>\n",
       "      <td>message</td>\n",
       "      <td>channel_join</td>\n",
       "      <td>1660833152.540199</td>\n",
       "      <td>U03U9DB7REG</td>\n",
       "      <td>&lt;@u03u9db7reg&gt; has joined the channel</td>\n",
       "      <td>None</td>\n",
       "      <td>None</td>\n",
       "      <td>NaN</td>\n",
       "      <td>NaN</td>\n",
       "      <td>NaN</td>\n",
       "      <td>...</td>\n",
       "      <td>NaN</td>\n",
       "      <td>NaN</td>\n",
       "      <td>NaN</td>\n",
       "      <td>NaN</td>\n",
       "      <td>NaN</td>\n",
       "      <td>NaN</td>\n",
       "      <td>NaN</td>\n",
       "      <td>NaN</td>\n",
       "      <td>NaN</td>\n",
       "      <td>NaN</td>\n",
       "    </tr>\n",
       "  </tbody>\n",
       "</table>\n",
       "<p>3 rows × 39 columns</p>\n",
       "</div>"
      ],
      "text/plain": [
       "      type       subtype                 ts         user  \\\n",
       "0  message  channel_join  1660301317.785879  U03TEPYRM2P   \n",
       "1  message  channel_join  1660301593.241889  U03T89ACUUW   \n",
       "2  message  channel_join  1660833152.540199  U03U9DB7REG   \n",
       "\n",
       "                                    text blocks attachments client_msg_id  \\\n",
       "0  <@u03tepyrm2p> has joined the channel   None        None           NaN   \n",
       "1  <@u03t89acuuw> has joined the channel   None        None           NaN   \n",
       "2  <@u03u9db7reg> has joined the channel   None        None           NaN   \n",
       "\n",
       "  team user_team  ... hidden bot_id app_id bot_profile  channel  room  \\\n",
       "0  NaN       NaN  ...    NaN    NaN    NaN         NaN      NaN   NaN   \n",
       "1  NaN       NaN  ...    NaN    NaN    NaN         NaN      NaN   NaN   \n",
       "2  NaN       NaN  ...    NaN    NaN    NaN         NaN      NaN   NaN   \n",
       "\n",
       "  no_notifications permalink bot_link inviter  \n",
       "0              NaN       NaN      NaN     NaN  \n",
       "1              NaN       NaN      NaN     NaN  \n",
       "2              NaN       NaN      NaN     NaN  \n",
       "\n",
       "[3 rows x 39 columns]"
      ]
     },
     "execution_count": 261,
     "metadata": {},
     "output_type": "execute_result"
    }
   ],
   "source": [
    "# saving all messages into one df\n",
    "msg = []\n",
    "for channel in list(channels_df.name):\n",
    "    channel_msg = loader.get_channel_messages(channel)\n",
    "    msg.extend(channel_msg)\n",
    "msg_df = pd.DataFrame(msg)\n",
    "msg_df.head(3)"
   ]
  },
  {
   "cell_type": "code",
   "execution_count": 270,
   "metadata": {},
   "outputs": [
    {
     "ename": "AttributeError",
     "evalue": "'list' object has no attribute 'values'",
     "output_type": "error",
     "traceback": [
      "\u001b[1;31m---------------------------------------------------------------------------\u001b[0m",
      "\u001b[1;31mAttributeError\u001b[0m                            Traceback (most recent call last)",
      "\u001b[1;32md:\\Doc\\`Project\\week0_starter_network_analysis-main\\notebooks\\parse_slack_data.ipynb Cell 16\u001b[0m line \u001b[0;36m5\n\u001b[0;32m      <a href='vscode-notebook-cell:/d%3A/Doc/%60Project/week0_starter_network_analysis-main/notebooks/parse_slack_data.ipynb#Y114sZmlsZQ%3D%3D?line=1'>2</a>\u001b[0m \u001b[39mfor\u001b[39;00m channel \u001b[39min\u001b[39;00m \u001b[39mlist\u001b[39m(channels_df\u001b[39m.\u001b[39mname):\n\u001b[0;32m      <a href='vscode-notebook-cell:/d%3A/Doc/%60Project/week0_starter_network_analysis-main/notebooks/parse_slack_data.ipynb#Y114sZmlsZQ%3D%3D?line=2'>3</a>\u001b[0m     \u001b[39m# Get the messages for the current channel\u001b[39;00m\n\u001b[0;32m      <a href='vscode-notebook-cell:/d%3A/Doc/%60Project/week0_starter_network_analysis-main/notebooks/parse_slack_data.ipynb#Y114sZmlsZQ%3D%3D?line=3'>4</a>\u001b[0m     channel_msg3 \u001b[39m=\u001b[39m loader\u001b[39m.\u001b[39mget_channel_messages(channel)\n\u001b[1;32m----> <a href='vscode-notebook-cell:/d%3A/Doc/%60Project/week0_starter_network_analysis-main/notebooks/parse_slack_data.ipynb#Y114sZmlsZQ%3D%3D?line=4'>5</a>\u001b[0m     msg_test\u001b[39m.\u001b[39mextend(\u001b[39mlist\u001b[39m(channel_msg3\u001b[39m.\u001b[39;49mvalues()))\n\u001b[0;32m      <a href='vscode-notebook-cell:/d%3A/Doc/%60Project/week0_starter_network_analysis-main/notebooks/parse_slack_data.ipynb#Y114sZmlsZQ%3D%3D?line=5'>6</a>\u001b[0m     \u001b[39m# msg_test.extend(utils.get_messages_dict(channel_msg3))\u001b[39;00m\n\u001b[0;32m      <a href='vscode-notebook-cell:/d%3A/Doc/%60Project/week0_starter_network_analysis-main/notebooks/parse_slack_data.ipynb#Y114sZmlsZQ%3D%3D?line=6'>7</a>\u001b[0m \n\u001b[0;32m      <a href='vscode-notebook-cell:/d%3A/Doc/%60Project/week0_starter_network_analysis-main/notebooks/parse_slack_data.ipynb#Y114sZmlsZQ%3D%3D?line=7'>8</a>\u001b[0m \u001b[39m# Create a DataFrame from the combined 'msg_list'\u001b[39;00m\n\u001b[0;32m      <a href='vscode-notebook-cell:/d%3A/Doc/%60Project/week0_starter_network_analysis-main/notebooks/parse_slack_data.ipynb#Y114sZmlsZQ%3D%3D?line=8'>9</a>\u001b[0m msg_df3 \u001b[39m=\u001b[39m pd\u001b[39m.\u001b[39mDataFrame(msg_test)\n",
      "\u001b[1;31mAttributeError\u001b[0m: 'list' object has no attribute 'values'"
     ]
    }
   ],
   "source": [
    "msg_test = []\n",
    "for channel in list(channels_df.name):\n",
    "    # Get the messages for the current channel\n",
    "    channel_msg3 = loader.get_channel_messages(channel)\n",
    "    msg_test.extend(list(channel_msg3.values()))\n",
    "    # msg_test.extend(utils.get_messages_dict(channel_msg3))\n",
    "\n",
    "# Create a DataFrame from the combined 'msg_list'\n",
    "msg_df3 = pd.DataFrame(msg_test)\n",
    "msg_df3"
   ]
  },
  {
   "cell_type": "code",
   "execution_count": null,
   "metadata": {},
   "outputs": [
    {
     "data": {
      "text/plain": [
       "dict_keys(['msg_id', 'text', 'attachments', 'user', 'mentions', 'emojis', 'reactions', 'replies', 'replies_to', 'ts', 'links', 'link_count'])"
      ]
     },
     "execution_count": 189,
     "metadata": {},
     "output_type": "execute_result"
    }
   ],
   "source": [
    "msg1_org = utils.get_messages_dict(msg)\n",
    "msg1_org.keys()"
   ]
  },
  {
   "cell_type": "code",
   "execution_count": null,
   "metadata": {},
   "outputs": [
    {
     "name": "stdout",
     "output_type": "stream",
     "text": [
      "['all-community-building', 'all-technical-support', 'all-career-exercises', 'all-resources', 'random', 'all-ideas', 'all-week1', 'all-broadcast', 'tenx-bot', 'team-10', 'all-week2', 'week2-group', 'ab_test-group', 'week-2-group-8', 'dsa-sql', 'all-week3', 'week4-teamwork', 'study-group', 'happy-new-year-study-group', 'all-week4', 'batch6_week4_studygroup', 'all-week5', 'all-week6', 'all-week7', 'kafka_de', 'all-week8', 'all-week9', 'all-week10', 'week-11-group4', 'gokada-challenge-presentation', 'all-week11', 'adludios-challange', 'chang-w11', 'all-ml-week12', 'all-de-week12', 'all-week12', 'all-web3-week12', 'machine-learning', 'data-engineering']\n"
     ]
    }
   ],
   "source": [
    "print(list(channels_df.name))"
   ]
  },
  {
   "cell_type": "code",
   "execution_count": null,
   "metadata": {},
   "outputs": [
    {
     "data": {
      "text/html": [
       "<div>\n",
       "<style scoped>\n",
       "    .dataframe tbody tr th:only-of-type {\n",
       "        vertical-align: middle;\n",
       "    }\n",
       "\n",
       "    .dataframe tbody tr th {\n",
       "        vertical-align: top;\n",
       "    }\n",
       "\n",
       "    .dataframe thead th {\n",
       "        text-align: right;\n",
       "    }\n",
       "</style>\n",
       "<table border=\"1\" class=\"dataframe\">\n",
       "  <thead>\n",
       "    <tr style=\"text-align: right;\">\n",
       "      <th></th>\n",
       "      <th>type</th>\n",
       "      <th>subtype</th>\n",
       "      <th>ts</th>\n",
       "      <th>user</th>\n",
       "      <th>text</th>\n",
       "      <th>blocks</th>\n",
       "      <th>attachments</th>\n",
       "      <th>client_msg_id</th>\n",
       "      <th>team</th>\n",
       "      <th>user_team</th>\n",
       "      <th>...</th>\n",
       "      <th>hidden</th>\n",
       "      <th>bot_id</th>\n",
       "      <th>app_id</th>\n",
       "      <th>bot_profile</th>\n",
       "      <th>channel</th>\n",
       "      <th>room</th>\n",
       "      <th>no_notifications</th>\n",
       "      <th>permalink</th>\n",
       "      <th>bot_link</th>\n",
       "      <th>inviter</th>\n",
       "    </tr>\n",
       "  </thead>\n",
       "  <tbody>\n",
       "    <tr>\n",
       "      <th>0</th>\n",
       "      <td>message</td>\n",
       "      <td>channel_join</td>\n",
       "      <td>1660301317.785879</td>\n",
       "      <td>U03TEPYRM2P</td>\n",
       "      <td>&lt;@u03tepyrm2p&gt; has joined the channel</td>\n",
       "      <td>None</td>\n",
       "      <td>None</td>\n",
       "      <td>NaN</td>\n",
       "      <td>NaN</td>\n",
       "      <td>NaN</td>\n",
       "      <td>...</td>\n",
       "      <td>NaN</td>\n",
       "      <td>NaN</td>\n",
       "      <td>NaN</td>\n",
       "      <td>NaN</td>\n",
       "      <td>NaN</td>\n",
       "      <td>NaN</td>\n",
       "      <td>NaN</td>\n",
       "      <td>NaN</td>\n",
       "      <td>NaN</td>\n",
       "      <td>NaN</td>\n",
       "    </tr>\n",
       "    <tr>\n",
       "      <th>1</th>\n",
       "      <td>message</td>\n",
       "      <td>channel_join</td>\n",
       "      <td>1660301593.241889</td>\n",
       "      <td>U03T89ACUUW</td>\n",
       "      <td>&lt;@u03t89acuuw&gt; has joined the channel</td>\n",
       "      <td>None</td>\n",
       "      <td>None</td>\n",
       "      <td>NaN</td>\n",
       "      <td>NaN</td>\n",
       "      <td>NaN</td>\n",
       "      <td>...</td>\n",
       "      <td>NaN</td>\n",
       "      <td>NaN</td>\n",
       "      <td>NaN</td>\n",
       "      <td>NaN</td>\n",
       "      <td>NaN</td>\n",
       "      <td>NaN</td>\n",
       "      <td>NaN</td>\n",
       "      <td>NaN</td>\n",
       "      <td>NaN</td>\n",
       "      <td>NaN</td>\n",
       "    </tr>\n",
       "    <tr>\n",
       "      <th>2</th>\n",
       "      <td>message</td>\n",
       "      <td>channel_join</td>\n",
       "      <td>1660833152.540199</td>\n",
       "      <td>U03U9DB7REG</td>\n",
       "      <td>&lt;@u03u9db7reg&gt; has joined the channel</td>\n",
       "      <td>None</td>\n",
       "      <td>None</td>\n",
       "      <td>NaN</td>\n",
       "      <td>NaN</td>\n",
       "      <td>NaN</td>\n",
       "      <td>...</td>\n",
       "      <td>NaN</td>\n",
       "      <td>NaN</td>\n",
       "      <td>NaN</td>\n",
       "      <td>NaN</td>\n",
       "      <td>NaN</td>\n",
       "      <td>NaN</td>\n",
       "      <td>NaN</td>\n",
       "      <td>NaN</td>\n",
       "      <td>NaN</td>\n",
       "      <td>NaN</td>\n",
       "    </tr>\n",
       "  </tbody>\n",
       "</table>\n",
       "<p>3 rows × 39 columns</p>\n",
       "</div>"
      ],
      "text/plain": [
       "      type       subtype                 ts         user  \\\n",
       "0  message  channel_join  1660301317.785879  U03TEPYRM2P   \n",
       "1  message  channel_join  1660301593.241889  U03T89ACUUW   \n",
       "2  message  channel_join  1660833152.540199  U03U9DB7REG   \n",
       "\n",
       "                                    text blocks attachments client_msg_id  \\\n",
       "0  <@u03tepyrm2p> has joined the channel   None        None           NaN   \n",
       "1  <@u03t89acuuw> has joined the channel   None        None           NaN   \n",
       "2  <@u03u9db7reg> has joined the channel   None        None           NaN   \n",
       "\n",
       "  team user_team  ... hidden bot_id app_id bot_profile  channel  room  \\\n",
       "0  NaN       NaN  ...    NaN    NaN    NaN         NaN      NaN   NaN   \n",
       "1  NaN       NaN  ...    NaN    NaN    NaN         NaN      NaN   NaN   \n",
       "2  NaN       NaN  ...    NaN    NaN    NaN         NaN      NaN   NaN   \n",
       "\n",
       "  no_notifications permalink bot_link inviter  \n",
       "0              NaN       NaN      NaN     NaN  \n",
       "1              NaN       NaN      NaN     NaN  \n",
       "2              NaN       NaN      NaN     NaN  \n",
       "\n",
       "[3 rows x 39 columns]"
      ]
     },
     "execution_count": 190,
     "metadata": {},
     "output_type": "execute_result"
    }
   ],
   "source": [
    "msg_df.head(3)"
   ]
  },
  {
   "cell_type": "code",
   "execution_count": null,
   "metadata": {},
   "outputs": [
    {
     "data": {
      "text/plain": [
       "Index(['type', 'subtype', 'ts', 'user', 'text', 'blocks', 'attachments',\n",
       "       'client_msg_id', 'team', 'user_team', 'source_team', 'user_profile',\n",
       "       'reactions', 'thread_ts', 'reply_count', 'reply_users_count',\n",
       "       'latest_reply', 'reply_users', 'replies', 'is_locked', 'subscribed',\n",
       "       'parent_user_id', 'edited', 'files', 'upload', 'display_as_bot', 'root',\n",
       "       'last_read', 'x_files', 'hidden', 'bot_id', 'app_id', 'bot_profile',\n",
       "       'channel', 'room', 'no_notifications', 'permalink', 'bot_link',\n",
       "       'inviter'],\n",
       "      dtype='object')"
      ]
     },
     "execution_count": 197,
     "metadata": {},
     "output_type": "execute_result"
    }
   ],
   "source": [
    "msg_df.columns"
   ]
  },
  {
   "cell_type": "code",
   "execution_count": null,
   "metadata": {},
   "outputs": [
    {
     "data": {
      "text/plain": [
       "user\n",
       "U03T89ACUUW     89.0\n",
       "U03TEPYRM2P     28.0\n",
       "U03TT5KEYCF     73.0\n",
       "U03TX2VN6H5      0.0\n",
       "U03U1FNPEUX    308.0\n",
       "               ...  \n",
       "U03V785NLSU    257.0\n",
       "U03V8LHPDME     15.0\n",
       "U03VAH809FC      0.0\n",
       "U04718Y7SQ0      8.0\n",
       "USLACKBOT       15.0\n",
       "Name: reply_count, Length: 67, dtype: float64"
      ]
     },
     "execution_count": 196,
     "metadata": {},
     "output_type": "execute_result"
    }
   ],
   "source": [
    "user_reply_counts = msg_df.groupby(\"user\")[\"reply_count\"].sum()\n",
    "user_reply_counts"
   ]
  },
  {
   "cell_type": "code",
   "execution_count": null,
   "metadata": {},
   "outputs": [
    {
     "data": {
      "text/plain": [
       "'U03V6HMRPGQ'"
      ]
     },
     "execution_count": 169,
     "metadata": {},
     "output_type": "execute_result"
    }
   ],
   "source": [
    "user_with_highest_replies = user_reply_counts.idxmax()\n",
    "user_with_highest_replies"
   ]
  },
  {
   "cell_type": "code",
   "execution_count": null,
   "metadata": {},
   "outputs": [
    {
     "name": "stdout",
     "output_type": "stream",
     "text": [
      "({'U03T89ACUUW': 'Rachel', 'U03TEPYRM2P': 'Bridget', 'U03TNP8Q8CT': 'Victor', 'U03TT5KEYCF': 'Brian', 'U03TX2VN6H5': 'Joanne', 'U03U1FNPEUX': 'Jennifer', 'U03U1FQKEMV': 'Kevin', 'U03U1GHT39V': 'Daniel', 'U03U1HAG9TR': 'Melanie', 'U03U1J51VFZ': 'Heidi', 'U03U4GULU3Y': 'Sara', 'U03U93GNNVB': 'Lawrence', 'U03U9DB7REG': 'Dawn', 'U03U9EJR362': 'Catherine', 'U03U9FWPNCE': 'Maria', 'U03UAKATQ22': 'Thomas', 'U03UCCRJME2': 'Nicole', 'U03UD4FEDHB': 'Michael', 'U03UD5B7C3X': 'Christopher', 'U03UD5K7HAR': 'Linda', 'U03UD63A8PP': 'Jonathan', 'U03UD68RQH3': 'James', 'U03UDA3R8S2': 'Michelle', 'U03UDBUL7CL': 'Luis', 'U03UDKKESB1': 'Melissa', 'U03UFT20ZJR': 'Austin', 'U03UFV7HFNF': 'Glenn', 'U03UFV7TUTV': 'Bryan', 'U03UG03HQ2F': 'Mary', 'U03UG0SFHGT': 'Robert', 'U03UG0YHAUT': 'David', 'U03UG1RTXAP': 'Teresa', 'U03UG1Z21JP': 'Tiffany', 'U03UG32J3PC': 'Zachary', 'U03UG4Q7V42': 'Ariel', 'U03UG569P7U': 'Karen', 'U03UG5VFN03': 'Susan', 'U03UGB3T3MY': 'Allison', 'U03UH397319': 'Monica', 'U03UH760JQK': 'Veronica', 'U03UHB8CXDY': 'Alejandra', 'U03UJGFG2HJ': 'Erin', 'U03UJGP0C68': 'Tammy', 'U03UJGRN5E0': 'Dennis', 'U03UJH1EQQL': 'Mason', 'U03UJKJGRAQ': 'Kenneth', 'U03UJN29Y4C': 'Cynthia', 'U03UK9CB71A': 'Clayton', 'U03UKGSDGSG': 'John', 'U03UKL27B0R': 'Roger', 'U03UL5LSTG9': 'Ashley', 'U03UP7V9Q57': 'Gabrielle', 'U03UR2LQ4DR': 'Allen', 'U03UUMM7Y8H': 'Elizabeth', 'U03UUMR26Q1': 'Trevor', 'U03UUN8M4RX': 'Matthew', 'U03UUP56MDF': 'Margaret', 'U03UUR571A5': 'Kelsey', 'U03UUS0MZCZ': 'Pamela', 'U03UVHCV6KB': 'Gregory', 'U03UYNR4TS4': 'Frances', 'U03V1AM5TFA': 'Lynn', 'U03V5Q9N516': 'Steven', 'U03V61VGQG0': 'Diane', 'U03V6HMRPGQ': 'Lisa', 'U03V785NLSU': 'Jason', 'U03V8LHPDME': 'Albert', 'U03VAH809FC': 'Stephanie', 'U0401GU4W6L': 'Bonnie', 'U0418T6CD1B': 'Debra', 'U04718Y7SQ0': 'Phillip'}, {'Rachel': 'U03T89ACUUW', 'Bridget': 'U03TEPYRM2P', 'Victor': 'U03TNP8Q8CT', 'Brian': 'U03TT5KEYCF', 'Joanne': 'U03TX2VN6H5', 'Jennifer': 'U03U1FNPEUX', 'Kevin': 'U03U1FQKEMV', 'Daniel': 'U03U1GHT39V', 'Melanie': 'U03U1HAG9TR', 'Heidi': 'U03U1J51VFZ', 'Sara': 'U03U4GULU3Y', 'Lawrence': 'U03U93GNNVB', 'Dawn': 'U03U9DB7REG', 'Catherine': 'U03U9EJR362', 'Maria': 'U03U9FWPNCE', 'Thomas': 'U03UAKATQ22', 'Nicole': 'U03UCCRJME2', 'Michael': 'U03UD4FEDHB', 'Christopher': 'U03UD5B7C3X', 'Linda': 'U03UD5K7HAR', 'Jonathan': 'U03UD63A8PP', 'James': 'U03UD68RQH3', 'Michelle': 'U03UDA3R8S2', 'Luis': 'U03UDBUL7CL', 'Melissa': 'U03UDKKESB1', 'Austin': 'U03UFT20ZJR', 'Glenn': 'U03UFV7HFNF', 'Bryan': 'U03UFV7TUTV', 'Mary': 'U03UG03HQ2F', 'Robert': 'U03UG0SFHGT', 'David': 'U03UG0YHAUT', 'Teresa': 'U03UG1RTXAP', 'Tiffany': 'U03UG1Z21JP', 'Zachary': 'U03UG32J3PC', 'Ariel': 'U03UG4Q7V42', 'Karen': 'U03UG569P7U', 'Susan': 'U03UG5VFN03', 'Allison': 'U03UGB3T3MY', 'Monica': 'U03UH397319', 'Veronica': 'U03UH760JQK', 'Alejandra': 'U03UHB8CXDY', 'Erin': 'U03UJGFG2HJ', 'Tammy': 'U03UJGP0C68', 'Dennis': 'U03UJGRN5E0', 'Mason': 'U03UJH1EQQL', 'Kenneth': 'U03UJKJGRAQ', 'Cynthia': 'U03UJN29Y4C', 'Clayton': 'U03UK9CB71A', 'John': 'U03UKGSDGSG', 'Roger': 'U03UKL27B0R', 'Ashley': 'U03UL5LSTG9', 'Gabrielle': 'U03UP7V9Q57', 'Allen': 'U03UR2LQ4DR', 'Elizabeth': 'U03UUMM7Y8H', 'Trevor': 'U03UUMR26Q1', 'Matthew': 'U03UUN8M4RX', 'Margaret': 'U03UUP56MDF', 'Kelsey': 'U03UUR571A5', 'Pamela': 'U03UUS0MZCZ', 'Gregory': 'U03UVHCV6KB', 'Frances': 'U03UYNR4TS4', 'Lynn': 'U03V1AM5TFA', 'Steven': 'U03V5Q9N516', 'Diane': 'U03V61VGQG0', 'Lisa': 'U03V6HMRPGQ', 'Jason': 'U03V785NLSU', 'Albert': 'U03V8LHPDME', 'Stephanie': 'U03VAH809FC', 'Bonnie': 'U0401GU4W6L', 'Debra': 'U0418T6CD1B', 'Phillip': 'U04718Y7SQ0'})\n"
     ]
    }
   ],
   "source": [
    "users_mapped = loader.get_user_map()\n",
    "print(users_mapped)"
   ]
  },
  {
   "cell_type": "markdown",
   "metadata": {},
   "source": [
    "## Insight Extraction\n",
    "\n",
    "Below are some useful questions to answer. Feel free to explore to answer other interesting questions that may be of help to get insight about student's behaviour, need, and future performance "
   ]
  },
  {
   "cell_type": "code",
   "execution_count": null,
   "metadata": {},
   "outputs": [],
   "source": [
    "def search_user_by_id(user_id):\n",
    "    user_name = users_mapped[0].get(user_id, None)\n",
    "    return user_name"
   ]
  },
  {
   "cell_type": "markdown",
   "metadata": {},
   "source": [
    "### Which user has the highest number of reply counts?"
   ]
  },
  {
   "cell_type": "code",
   "execution_count": null,
   "metadata": {},
   "outputs": [
    {
     "name": "stdout",
     "output_type": "stream",
     "text": [
      "The User with the highest number of reply counts: \n",
      "User ID: U03V6HMRPGQ\n"
     ]
    },
    {
     "data": {
      "text/plain": [
       "'Lisa'"
      ]
     },
     "execution_count": 220,
     "metadata": {},
     "output_type": "execute_result"
    }
   ],
   "source": [
    "# which user has the highest number of reply counts?\n",
    "user_reply_counts = msg_df.groupby(\"user\")[\"reply_count\"].sum()\n",
    "user_with_highest_replies = user_reply_counts.idxmax()\n",
    "print(\"The User with the highest number of reply counts: \")\n",
    "print(f'User ID: {user_with_highest_replies}')\n",
    "search_user_by_id(user_with_highest_replies)"
   ]
  },
  {
   "cell_type": "markdown",
   "metadata": {},
   "source": [
    "Who are the top and bottom 10 users by Reply count?"
   ]
  },
  {
   "cell_type": "code",
   "execution_count": null,
   "metadata": {},
   "outputs": [
    {
     "name": "stdout",
     "output_type": "stream",
     "text": [
      "Top 10 users by Reply counts\n"
     ]
    },
    {
     "data": {
      "text/html": [
       "<div>\n",
       "<style scoped>\n",
       "    .dataframe tbody tr th:only-of-type {\n",
       "        vertical-align: middle;\n",
       "    }\n",
       "\n",
       "    .dataframe tbody tr th {\n",
       "        vertical-align: top;\n",
       "    }\n",
       "\n",
       "    .dataframe thead th {\n",
       "        text-align: right;\n",
       "    }\n",
       "</style>\n",
       "<table border=\"1\" class=\"dataframe\">\n",
       "  <thead>\n",
       "    <tr style=\"text-align: right;\">\n",
       "      <th></th>\n",
       "      <th>user</th>\n",
       "      <th>reply_count</th>\n",
       "      <th>name</th>\n",
       "    </tr>\n",
       "  </thead>\n",
       "  <tbody>\n",
       "    <tr>\n",
       "      <th>0</th>\n",
       "      <td>U03V6HMRPGQ</td>\n",
       "      <td>727.0</td>\n",
       "      <td>Lisa</td>\n",
       "    </tr>\n",
       "    <tr>\n",
       "      <th>1</th>\n",
       "      <td>U03V1AM5TFA</td>\n",
       "      <td>614.0</td>\n",
       "      <td>Lynn</td>\n",
       "    </tr>\n",
       "    <tr>\n",
       "      <th>2</th>\n",
       "      <td>U03UH397319</td>\n",
       "      <td>453.0</td>\n",
       "      <td>Monica</td>\n",
       "    </tr>\n",
       "    <tr>\n",
       "      <th>3</th>\n",
       "      <td>U03UJKJGRAQ</td>\n",
       "      <td>443.0</td>\n",
       "      <td>Kenneth</td>\n",
       "    </tr>\n",
       "    <tr>\n",
       "      <th>4</th>\n",
       "      <td>U03UVHCV6KB</td>\n",
       "      <td>435.0</td>\n",
       "      <td>Gregory</td>\n",
       "    </tr>\n",
       "    <tr>\n",
       "      <th>5</th>\n",
       "      <td>U03UUR571A5</td>\n",
       "      <td>414.0</td>\n",
       "      <td>Kelsey</td>\n",
       "    </tr>\n",
       "    <tr>\n",
       "      <th>6</th>\n",
       "      <td>U03UJGP0C68</td>\n",
       "      <td>378.0</td>\n",
       "      <td>Tammy</td>\n",
       "    </tr>\n",
       "    <tr>\n",
       "      <th>7</th>\n",
       "      <td>U03UG32J3PC</td>\n",
       "      <td>363.0</td>\n",
       "      <td>Zachary</td>\n",
       "    </tr>\n",
       "    <tr>\n",
       "      <th>8</th>\n",
       "      <td>U03UJN29Y4C</td>\n",
       "      <td>355.0</td>\n",
       "      <td>Cynthia</td>\n",
       "    </tr>\n",
       "    <tr>\n",
       "      <th>9</th>\n",
       "      <td>U03UD68RQH3</td>\n",
       "      <td>341.0</td>\n",
       "      <td>James</td>\n",
       "    </tr>\n",
       "  </tbody>\n",
       "</table>\n",
       "</div>"
      ],
      "text/plain": [
       "          user  reply_count     name\n",
       "0  U03V6HMRPGQ        727.0     Lisa\n",
       "1  U03V1AM5TFA        614.0     Lynn\n",
       "2  U03UH397319        453.0   Monica\n",
       "3  U03UJKJGRAQ        443.0  Kenneth\n",
       "4  U03UVHCV6KB        435.0  Gregory\n",
       "5  U03UUR571A5        414.0   Kelsey\n",
       "6  U03UJGP0C68        378.0    Tammy\n",
       "7  U03UG32J3PC        363.0  Zachary\n",
       "8  U03UJN29Y4C        355.0  Cynthia\n",
       "9  U03UD68RQH3        341.0    James"
      ]
     },
     "execution_count": 245,
     "metadata": {},
     "output_type": "execute_result"
    }
   ],
   "source": [
    "# Who are the top and bottom 10 users by Reply count?\n",
    "top_users = user_reply_counts.sort_values(ascending=False).reset_index()\n",
    "top_users[\"name\"] = top_users[\"user\"].apply(search_user_by_id)\n",
    "print(\"Top 10 users by Reply counts\")\n",
    "top_users.head(10)"
   ]
  },
  {
   "cell_type": "code",
   "execution_count": null,
   "metadata": {},
   "outputs": [
    {
     "name": "stdout",
     "output_type": "stream",
     "text": [
      "Least (Bottom) 10 users by Reply counts\n"
     ]
    },
    {
     "data": {
      "text/html": [
       "<div>\n",
       "<style scoped>\n",
       "    .dataframe tbody tr th:only-of-type {\n",
       "        vertical-align: middle;\n",
       "    }\n",
       "\n",
       "    .dataframe tbody tr th {\n",
       "        vertical-align: top;\n",
       "    }\n",
       "\n",
       "    .dataframe thead th {\n",
       "        text-align: right;\n",
       "    }\n",
       "</style>\n",
       "<table border=\"1\" class=\"dataframe\">\n",
       "  <thead>\n",
       "    <tr style=\"text-align: right;\">\n",
       "      <th></th>\n",
       "      <th>user</th>\n",
       "      <th>reply_count</th>\n",
       "      <th>name</th>\n",
       "    </tr>\n",
       "  </thead>\n",
       "  <tbody>\n",
       "    <tr>\n",
       "      <th>57</th>\n",
       "      <td>U03UYNR4TS4</td>\n",
       "      <td>1.0</td>\n",
       "      <td>Frances</td>\n",
       "    </tr>\n",
       "    <tr>\n",
       "      <th>58</th>\n",
       "      <td>U03UDBUL7CL</td>\n",
       "      <td>0.0</td>\n",
       "      <td>Luis</td>\n",
       "    </tr>\n",
       "    <tr>\n",
       "      <th>59</th>\n",
       "      <td>U03UDKKESB1</td>\n",
       "      <td>0.0</td>\n",
       "      <td>Melissa</td>\n",
       "    </tr>\n",
       "    <tr>\n",
       "      <th>60</th>\n",
       "      <td>U03UFT20ZJR</td>\n",
       "      <td>0.0</td>\n",
       "      <td>Austin</td>\n",
       "    </tr>\n",
       "    <tr>\n",
       "      <th>61</th>\n",
       "      <td>U03UH760JQK</td>\n",
       "      <td>0.0</td>\n",
       "      <td>Veronica</td>\n",
       "    </tr>\n",
       "    <tr>\n",
       "      <th>62</th>\n",
       "      <td>U03TX2VN6H5</td>\n",
       "      <td>0.0</td>\n",
       "      <td>Joanne</td>\n",
       "    </tr>\n",
       "    <tr>\n",
       "      <th>63</th>\n",
       "      <td>U03UCCRJME2</td>\n",
       "      <td>0.0</td>\n",
       "      <td>Nicole</td>\n",
       "    </tr>\n",
       "    <tr>\n",
       "      <th>64</th>\n",
       "      <td>U03VAH809FC</td>\n",
       "      <td>0.0</td>\n",
       "      <td>Stephanie</td>\n",
       "    </tr>\n",
       "    <tr>\n",
       "      <th>65</th>\n",
       "      <td>U03UK9CB71A</td>\n",
       "      <td>0.0</td>\n",
       "      <td>Clayton</td>\n",
       "    </tr>\n",
       "    <tr>\n",
       "      <th>66</th>\n",
       "      <td>U03UR2LQ4DR</td>\n",
       "      <td>0.0</td>\n",
       "      <td>Allen</td>\n",
       "    </tr>\n",
       "  </tbody>\n",
       "</table>\n",
       "</div>"
      ],
      "text/plain": [
       "           user  reply_count       name\n",
       "57  U03UYNR4TS4          1.0    Frances\n",
       "58  U03UDBUL7CL          0.0       Luis\n",
       "59  U03UDKKESB1          0.0    Melissa\n",
       "60  U03UFT20ZJR          0.0     Austin\n",
       "61  U03UH760JQK          0.0   Veronica\n",
       "62  U03TX2VN6H5          0.0     Joanne\n",
       "63  U03UCCRJME2          0.0     Nicole\n",
       "64  U03VAH809FC          0.0  Stephanie\n",
       "65  U03UK9CB71A          0.0    Clayton\n",
       "66  U03UR2LQ4DR          0.0      Allen"
      ]
     },
     "execution_count": 246,
     "metadata": {},
     "output_type": "execute_result"
    }
   ],
   "source": [
    "print(\"Least (Bottom) 10 users by Reply counts\")\n",
    "top_users.tail(10)"
   ]
  },
  {
   "cell_type": "markdown",
   "metadata": {},
   "source": [
    "Who are the top and bottom 10 users by Message count?"
   ]
  },
  {
   "cell_type": "code",
   "execution_count": null,
   "metadata": {},
   "outputs": [
    {
     "name": "stdout",
     "output_type": "stream",
     "text": [
      "Top 10:\n"
     ]
    },
    {
     "data": {
      "text/html": [
       "<div>\n",
       "<style scoped>\n",
       "    .dataframe tbody tr th:only-of-type {\n",
       "        vertical-align: middle;\n",
       "    }\n",
       "\n",
       "    .dataframe tbody tr th {\n",
       "        vertical-align: top;\n",
       "    }\n",
       "\n",
       "    .dataframe thead th {\n",
       "        text-align: right;\n",
       "    }\n",
       "</style>\n",
       "<table border=\"1\" class=\"dataframe\">\n",
       "  <thead>\n",
       "    <tr style=\"text-align: right;\">\n",
       "      <th></th>\n",
       "      <th>user</th>\n",
       "      <th>message_count</th>\n",
       "      <th>name</th>\n",
       "    </tr>\n",
       "  </thead>\n",
       "  <tbody>\n",
       "    <tr>\n",
       "      <th>0</th>\n",
       "      <td>U03V1AM5TFA</td>\n",
       "      <td>1554</td>\n",
       "      <td>Lynn</td>\n",
       "    </tr>\n",
       "    <tr>\n",
       "      <th>1</th>\n",
       "      <td>U03UUR571A5</td>\n",
       "      <td>1206</td>\n",
       "      <td>Kelsey</td>\n",
       "    </tr>\n",
       "    <tr>\n",
       "      <th>2</th>\n",
       "      <td>U03UVHCV6KB</td>\n",
       "      <td>1178</td>\n",
       "      <td>Gregory</td>\n",
       "    </tr>\n",
       "    <tr>\n",
       "      <th>3</th>\n",
       "      <td>U03UG32J3PC</td>\n",
       "      <td>1070</td>\n",
       "      <td>Zachary</td>\n",
       "    </tr>\n",
       "    <tr>\n",
       "      <th>4</th>\n",
       "      <td>U03UH397319</td>\n",
       "      <td>910</td>\n",
       "      <td>Monica</td>\n",
       "    </tr>\n",
       "    <tr>\n",
       "      <th>5</th>\n",
       "      <td>U03V6HMRPGQ</td>\n",
       "      <td>902</td>\n",
       "      <td>Lisa</td>\n",
       "    </tr>\n",
       "    <tr>\n",
       "      <th>6</th>\n",
       "      <td>U03UG4Q7V42</td>\n",
       "      <td>803</td>\n",
       "      <td>Ariel</td>\n",
       "    </tr>\n",
       "    <tr>\n",
       "      <th>7</th>\n",
       "      <td>U03UD68RQH3</td>\n",
       "      <td>706</td>\n",
       "      <td>James</td>\n",
       "    </tr>\n",
       "    <tr>\n",
       "      <th>8</th>\n",
       "      <td>U03UJGP0C68</td>\n",
       "      <td>675</td>\n",
       "      <td>Tammy</td>\n",
       "    </tr>\n",
       "    <tr>\n",
       "      <th>9</th>\n",
       "      <td>U03U1FNPEUX</td>\n",
       "      <td>575</td>\n",
       "      <td>Jennifer</td>\n",
       "    </tr>\n",
       "  </tbody>\n",
       "</table>\n",
       "</div>"
      ],
      "text/plain": [
       "          user  message_count      name\n",
       "0  U03V1AM5TFA           1554      Lynn\n",
       "1  U03UUR571A5           1206    Kelsey\n",
       "2  U03UVHCV6KB           1178   Gregory\n",
       "3  U03UG32J3PC           1070   Zachary\n",
       "4  U03UH397319            910    Monica\n",
       "5  U03V6HMRPGQ            902      Lisa\n",
       "6  U03UG4Q7V42            803     Ariel\n",
       "7  U03UD68RQH3            706     James\n",
       "8  U03UJGP0C68            675     Tammy\n",
       "9  U03U1FNPEUX            575  Jennifer"
      ]
     },
     "execution_count": 247,
     "metadata": {},
     "output_type": "execute_result"
    }
   ],
   "source": [
    "user_msg_counts = msg_df[\"user\"].value_counts().reset_index()\n",
    "user_msg_counts.columns = [\"user\", \"message_count\"]\n",
    "user_msg_counts[\"name\"] = user_msg_counts[\"user\"].apply(search_user_by_id)\n",
    "user_msg_counts_sorted = user_msg_counts.sort_values(by=\"message_count\",ascending=False)\n",
    "print(\"Top 10:\")\n",
    "user_msg_counts_sorted.head(10)"
   ]
  },
  {
   "cell_type": "code",
   "execution_count": null,
   "metadata": {},
   "outputs": [
    {
     "name": "stdout",
     "output_type": "stream",
     "text": [
      "Bottom 10:\n"
     ]
    },
    {
     "data": {
      "text/html": [
       "<div>\n",
       "<style scoped>\n",
       "    .dataframe tbody tr th:only-of-type {\n",
       "        vertical-align: middle;\n",
       "    }\n",
       "\n",
       "    .dataframe tbody tr th {\n",
       "        vertical-align: top;\n",
       "    }\n",
       "\n",
       "    .dataframe thead th {\n",
       "        text-align: right;\n",
       "    }\n",
       "</style>\n",
       "<table border=\"1\" class=\"dataframe\">\n",
       "  <thead>\n",
       "    <tr style=\"text-align: right;\">\n",
       "      <th></th>\n",
       "      <th>user</th>\n",
       "      <th>message_count</th>\n",
       "      <th>name</th>\n",
       "    </tr>\n",
       "  </thead>\n",
       "  <tbody>\n",
       "    <tr>\n",
       "      <th>57</th>\n",
       "      <td>U03UDKKESB1</td>\n",
       "      <td>13</td>\n",
       "      <td>Melissa</td>\n",
       "    </tr>\n",
       "    <tr>\n",
       "      <th>58</th>\n",
       "      <td>USLACKBOT</td>\n",
       "      <td>9</td>\n",
       "      <td>None</td>\n",
       "    </tr>\n",
       "    <tr>\n",
       "      <th>59</th>\n",
       "      <td>U03UG03HQ2F</td>\n",
       "      <td>7</td>\n",
       "      <td>Mary</td>\n",
       "    </tr>\n",
       "    <tr>\n",
       "      <th>60</th>\n",
       "      <td>U03UH760JQK</td>\n",
       "      <td>6</td>\n",
       "      <td>Veronica</td>\n",
       "    </tr>\n",
       "    <tr>\n",
       "      <th>61</th>\n",
       "      <td>U03UCCRJME2</td>\n",
       "      <td>5</td>\n",
       "      <td>Nicole</td>\n",
       "    </tr>\n",
       "    <tr>\n",
       "      <th>62</th>\n",
       "      <td>U03UFT20ZJR</td>\n",
       "      <td>4</td>\n",
       "      <td>Austin</td>\n",
       "    </tr>\n",
       "    <tr>\n",
       "      <th>63</th>\n",
       "      <td>U03UK9CB71A</td>\n",
       "      <td>4</td>\n",
       "      <td>Clayton</td>\n",
       "    </tr>\n",
       "    <tr>\n",
       "      <th>64</th>\n",
       "      <td>U04718Y7SQ0</td>\n",
       "      <td>3</td>\n",
       "      <td>Phillip</td>\n",
       "    </tr>\n",
       "    <tr>\n",
       "      <th>65</th>\n",
       "      <td>U03UR2LQ4DR</td>\n",
       "      <td>3</td>\n",
       "      <td>Allen</td>\n",
       "    </tr>\n",
       "    <tr>\n",
       "      <th>66</th>\n",
       "      <td>U03VAH809FC</td>\n",
       "      <td>1</td>\n",
       "      <td>Stephanie</td>\n",
       "    </tr>\n",
       "  </tbody>\n",
       "</table>\n",
       "</div>"
      ],
      "text/plain": [
       "           user  message_count       name\n",
       "57  U03UDKKESB1             13    Melissa\n",
       "58    USLACKBOT              9       None\n",
       "59  U03UG03HQ2F              7       Mary\n",
       "60  U03UH760JQK              6   Veronica\n",
       "61  U03UCCRJME2              5     Nicole\n",
       "62  U03UFT20ZJR              4     Austin\n",
       "63  U03UK9CB71A              4    Clayton\n",
       "64  U04718Y7SQ0              3    Phillip\n",
       "65  U03UR2LQ4DR              3      Allen\n",
       "66  U03VAH809FC              1  Stephanie"
      ]
     },
     "execution_count": 248,
     "metadata": {},
     "output_type": "execute_result"
    }
   ],
   "source": [
    "print(\"Bottom 10:\")\n",
    "user_msg_counts_sorted.tail(10)"
   ]
  },
  {
   "cell_type": "markdown",
   "metadata": {},
   "source": [
    "Who are the top and bottom 10 users by Mention?"
   ]
  },
  {
   "cell_type": "markdown",
   "metadata": {},
   "source": [
    "### Visualize reply counts per user per channel"
   ]
  },
  {
   "cell_type": "code",
   "execution_count": null,
   "metadata": {},
   "outputs": [],
   "source": [
    "# Visualize reply counts per user per channel"
   ]
  },
  {
   "cell_type": "code",
   "execution_count": null,
   "metadata": {},
   "outputs": [
    {
     "name": "stdout",
     "output_type": "stream",
     "text": [
      "        user      channel  reply_count\n",
      "0  USLACKBOT  C03T0APHX63          0.0\n",
      "1  USLACKBOT  C049GV7JK4Y          0.0\n"
     ]
    }
   ],
   "source": [
    "# reply counts per user per channel\n",
    "reply_counts_per_user_per_channel = msg_df.groupby([\"user\", \"channel\"])[\"reply_count\"].sum().reset_index()\n",
    "print(reply_counts_per_user_per_channel)"
   ]
  },
  {
   "cell_type": "code",
   "execution_count": null,
   "metadata": {},
   "outputs": [],
   "source": [
    "# what is the time range of the day that most messages are sent?\n"
   ]
  },
  {
   "cell_type": "code",
   "execution_count": null,
   "metadata": {},
   "outputs": [],
   "source": [
    "# what kind of messages are replied faster than others?"
   ]
  },
  {
   "cell_type": "code",
   "execution_count": null,
   "metadata": {},
   "outputs": [],
   "source": [
    "# Relationship between # of messages and # of reactions"
   ]
  },
  {
   "cell_type": "code",
   "execution_count": null,
   "metadata": {},
   "outputs": [],
   "source": [
    "# Classify messages into different categories such as questions, answers, comments, etc."
   ]
  },
  {
   "cell_type": "code",
   "execution_count": null,
   "metadata": {},
   "outputs": [],
   "source": [
    "# Which users got the most reactions?"
   ]
  },
  {
   "cell_type": "code",
   "execution_count": null,
   "metadata": {},
   "outputs": [],
   "source": [
    "# Model topics mentioned in the channel"
   ]
  },
  {
   "cell_type": "code",
   "execution_count": null,
   "metadata": {},
   "outputs": [],
   "source": [
    "# What are the topics that got the most reactions?"
   ]
  },
  {
   "cell_type": "markdown",
   "metadata": {},
   "source": [
    "### Harder questions to look into"
   ]
  },
  {
   "cell_type": "code",
   "execution_count": null,
   "metadata": {},
   "outputs": [],
   "source": [
    "# Based on messages, reactions, references shared, and other relevant data such as classification of questions into techical question, comment, answer, aorder stu the python, statistics, and sql skill level of a user?"
   ]
  }
 ],
 "metadata": {
  "kernelspec": {
   "display_name": "myenv",
   "language": "python",
   "name": "myenv"
  },
  "language_info": {
   "codemirror_mode": {
    "name": "ipython",
    "version": 3
   },
   "file_extension": ".py",
   "mimetype": "text/x-python",
   "name": "python",
   "nbconvert_exporter": "python",
   "pygments_lexer": "ipython3",
   "version": "3.12.0"
  }
 },
 "nbformat": 4,
 "nbformat_minor": 4
}
